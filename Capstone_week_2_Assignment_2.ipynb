{
 "cells": [
  {
   "cell_type": "markdown",
   "metadata": {},
   "source": [
    "<h1> Allhads Capstone Project Week 2 Assignment 2</h1>"
   ]
  },
  {
   "cell_type": "markdown",
   "metadata": {},
   "source": [
    "<h3> Data Understanding </h3>\n",
    "<h4> Sourcing Data </h4>\n",
    "\n",
    "<p>For this project, I will be using the data provided in the coursework. The data is sufficient for the project and learning. Also, peers reviewing the course who have already downloaded this data have clear understanding about the information in the dataset, such as attributes, number of data points and information in data. Any changes, accidental alteration to this data may be easily observed by peers during review and can point to the mistakes made. </p>"
   ]
  },
  {
   "cell_type": "markdown",
   "metadata": {},
   "source": [
    "<h4> Information in Data Set </h4>\n",
    "<p> To have a clear understanding of the data, let's import this data and look into it. As this notebook will be further used in the Capstone Project (Week 3), some coding is added to see how the data looks like</p>"
   ]
  },
  {
   "cell_type": "code",
   "execution_count": 1,
   "metadata": {},
   "outputs": [],
   "source": [
    "#importing the pandas and numpy libraries\n",
    "import pandas as pd\n",
    "import numpy as np"
   ]
  },
  {
   "cell_type": "code",
   "execution_count": 3,
   "metadata": {},
   "outputs": [
    {
     "name": "stderr",
     "output_type": "stream",
     "text": [
      "/home/jupyterlab/conda/envs/python/lib/python3.6/site-packages/IPython/core/interactiveshell.py:3072: DtypeWarning: Columns (33) have mixed types.Specify dtype option on import or set low_memory=False.\n",
      "  interactivity=interactivity, compiler=compiler, result=result)\n"
     ]
    },
    {
     "name": "stdout",
     "output_type": "stream",
     "text": [
      "<class 'pandas.core.frame.DataFrame'>\n",
      "RangeIndex: 194673 entries, 0 to 194672\n",
      "Data columns (total 38 columns):\n",
      " #   Column          Non-Null Count   Dtype  \n",
      "---  ------          --------------   -----  \n",
      " 0   SEVERITYCODE    194673 non-null  int64  \n",
      " 1   X               189339 non-null  float64\n",
      " 2   Y               189339 non-null  float64\n",
      " 3   OBJECTID        194673 non-null  int64  \n",
      " 4   INCKEY          194673 non-null  int64  \n",
      " 5   COLDETKEY       194673 non-null  int64  \n",
      " 6   REPORTNO        194673 non-null  object \n",
      " 7   STATUS          194673 non-null  object \n",
      " 8   ADDRTYPE        192747 non-null  object \n",
      " 9   INTKEY          65070 non-null   float64\n",
      " 10  LOCATION        191996 non-null  object \n",
      " 11  EXCEPTRSNCODE   84811 non-null   object \n",
      " 12  EXCEPTRSNDESC   5638 non-null    object \n",
      " 13  SEVERITYCODE.1  194673 non-null  int64  \n",
      " 14  SEVERITYDESC    194673 non-null  object \n",
      " 15  COLLISIONTYPE   189769 non-null  object \n",
      " 16  PERSONCOUNT     194673 non-null  int64  \n",
      " 17  PEDCOUNT        194673 non-null  int64  \n",
      " 18  PEDCYLCOUNT     194673 non-null  int64  \n",
      " 19  VEHCOUNT        194673 non-null  int64  \n",
      " 20  INCDATE         194673 non-null  object \n",
      " 21  INCDTTM         194673 non-null  object \n",
      " 22  JUNCTIONTYPE    188344 non-null  object \n",
      " 23  SDOT_COLCODE    194673 non-null  int64  \n",
      " 24  SDOT_COLDESC    194673 non-null  object \n",
      " 25  INATTENTIONIND  29805 non-null   object \n",
      " 26  UNDERINFL       189789 non-null  object \n",
      " 27  WEATHER         189592 non-null  object \n",
      " 28  ROADCOND        189661 non-null  object \n",
      " 29  LIGHTCOND       189503 non-null  object \n",
      " 30  PEDROWNOTGRNT   4667 non-null    object \n",
      " 31  SDOTCOLNUM      114936 non-null  float64\n",
      " 32  SPEEDING        9333 non-null    object \n",
      " 33  ST_COLCODE      194655 non-null  object \n",
      " 34  ST_COLDESC      189769 non-null  object \n",
      " 35  SEGLANEKEY      194673 non-null  int64  \n",
      " 36  CROSSWALKKEY    194673 non-null  int64  \n",
      " 37  HITPARKEDCAR    194673 non-null  object \n",
      "dtypes: float64(4), int64(12), object(22)\n",
      "memory usage: 56.4+ MB\n"
     ]
    }
   ],
   "source": [
    "#reading the CSV file and storing information in Data Frame\n",
    "df_Collision = pd.read_csv('Data-Collisions.csv')\n",
    "df_Collision.info()"
   ]
  },
  {
   "cell_type": "markdown",
   "metadata": {},
   "source": [
    "<p> From the above information in the data frame we now know that </p>\n",
    "<ul>\n",
    "    <li> There are 37 Attributes in the Data Frame</li>\n",
    "    <li> Most of the attributes are object type (22 Object)</li>\n",
    "    <li> There are 12 integer date types, of these Object ID, INCKEY, COLDETKEY, REPORTNO, INTKEY, SDOT_COLCODE are probably some codes</li>\n",
    "    </ul>\n",
    "<p> Using the above data and on initial observation, most of the data is object type. </p>"
   ]
  },
  {
   "cell_type": "markdown",
   "metadata": {},
   "source": [
    "<h3>Data Analysis Approach </h3>\n",
    "<p> The business understanding requires us to predict the possibility of a future client getting in an accident, the analytical approach is <u>Predictive Analysis</u>. As most of the data is object type, Classification algorithm can be used in this analysis. </p>\n",
    "<h3> How the data will be used </h3>\n",
    "<p> The data provided will used to generate a Predictive Analysis method. Classification algorithm like KNN, Kmean, Clustering, DBSCAN etc. can be used in this analysis. For example, if we use  DBSCAN we should be able to predict that which locations (X, Y data give in DataFrame) have more accidents than the others or if we use KNN we can classify the people with similar conditions getting into an accident. When the report will be ready, the insurance companies (for whom the report is made) will be able to recognise which of their clients' is more prone to getting in an accident using the information provided by them while getting a quote. The quote can then be adjusted to reduce the insurance companies' risk </p>"
   ]
  },
  {
   "cell_type": "code",
   "execution_count": null,
   "metadata": {},
   "outputs": [],
   "source": []
  }
 ],
 "metadata": {
  "kernelspec": {
   "display_name": "Python",
   "language": "python",
   "name": "conda-env-python-py"
  },
  "language_info": {
   "codemirror_mode": {
    "name": "ipython",
    "version": 3
   },
   "file_extension": ".py",
   "mimetype": "text/x-python",
   "name": "python",
   "nbconvert_exporter": "python",
   "pygments_lexer": "ipython3",
   "version": "3.6.11"
  }
 },
 "nbformat": 4,
 "nbformat_minor": 4
}
