{
 "cells": [
  {
   "cell_type": "markdown",
   "metadata": {},
   "source": [
    "<h1> Allhads Capstone Project Week 2 Assignment 1</h1>"
   ]
  },
  {
   "cell_type": "markdown",
   "metadata": {},
   "source": [
    "<h3> Business Understanding </h3>\n",
    "<p>The objective of this weeks assignment 1 is to show the business understanding of the project we are about to do, and to target a selected audience. With the available data on accident in Seattle. I will be targeting the insurance companines as clients. Analysis will be focused on the accidents and the likelyhood of a new insured customer getting in an accident. Insurance companies would be able to use this analysis to adjust the risk of providing insurance to a new customer and change the payments. </p>\n",
    " "
   ]
  },
  {
   "cell_type": "code",
   "execution_count": null,
   "metadata": {},
   "outputs": [],
   "source": []
  }
 ],
 "metadata": {
  "kernelspec": {
   "display_name": "Python",
   "language": "python",
   "name": "conda-env-python-py"
  },
  "language_info": {
   "codemirror_mode": {
    "name": "ipython",
    "version": 3
   },
   "file_extension": ".py",
   "mimetype": "text/x-python",
   "name": "python",
   "nbconvert_exporter": "python",
   "pygments_lexer": "ipython3",
   "version": "3.6.11"
  }
 },
 "nbformat": 4,
 "nbformat_minor": 4
}
